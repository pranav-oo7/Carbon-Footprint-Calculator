{
  "nbformat": 4,
  "nbformat_minor": 0,
  "metadata": {
    "colab": {
      "provenance": [],
      "authorship_tag": "ABX9TyMVKmampF4X7/dPHqzfyqM0",
      "include_colab_link": true
    },
    "kernelspec": {
      "name": "python3",
      "display_name": "Python 3"
    },
    "language_info": {
      "name": "python"
    },
    "widgets": {
      "application/vnd.jupyter.widget-state+json": {
        "3ca0ac577cab414d88889dd83f092c45": {
          "model_module": "@jupyter-widgets/controls",
          "model_name": "IntSliderModel",
          "model_module_version": "1.5.0",
          "state": {
            "_dom_classes": [],
            "_model_module": "@jupyter-widgets/controls",
            "_model_module_version": "1.5.0",
            "_model_name": "IntSliderModel",
            "_view_count": null,
            "_view_module": "@jupyter-widgets/controls",
            "_view_module_version": "1.5.0",
            "_view_name": "IntSliderView",
            "continuous_update": true,
            "description": "Car km/year:",
            "description_tooltip": null,
            "disabled": false,
            "layout": "IPY_MODEL_d81c9dff21fe4778bc7e2827a7e81756",
            "max": 50000,
            "min": 0,
            "orientation": "horizontal",
            "readout": true,
            "readout_format": "d",
            "step": 500,
            "style": "IPY_MODEL_331204c751564035901bc17ebf9c1d15",
            "value": 12000
          }
        },
        "d81c9dff21fe4778bc7e2827a7e81756": {
          "model_module": "@jupyter-widgets/base",
          "model_name": "LayoutModel",
          "model_module_version": "1.2.0",
          "state": {
            "_model_module": "@jupyter-widgets/base",
            "_model_module_version": "1.2.0",
            "_model_name": "LayoutModel",
            "_view_count": null,
            "_view_module": "@jupyter-widgets/base",
            "_view_module_version": "1.2.0",
            "_view_name": "LayoutView",
            "align_content": null,
            "align_items": null,
            "align_self": null,
            "border": null,
            "bottom": null,
            "display": null,
            "flex": null,
            "flex_flow": null,
            "grid_area": null,
            "grid_auto_columns": null,
            "grid_auto_flow": null,
            "grid_auto_rows": null,
            "grid_column": null,
            "grid_gap": null,
            "grid_row": null,
            "grid_template_areas": null,
            "grid_template_columns": null,
            "grid_template_rows": null,
            "height": null,
            "justify_content": null,
            "justify_items": null,
            "left": null,
            "margin": null,
            "max_height": null,
            "max_width": null,
            "min_height": null,
            "min_width": null,
            "object_fit": null,
            "object_position": null,
            "order": null,
            "overflow": null,
            "overflow_x": null,
            "overflow_y": null,
            "padding": null,
            "right": null,
            "top": null,
            "visibility": null,
            "width": null
          }
        },
        "331204c751564035901bc17ebf9c1d15": {
          "model_module": "@jupyter-widgets/controls",
          "model_name": "SliderStyleModel",
          "model_module_version": "1.5.0",
          "state": {
            "_model_module": "@jupyter-widgets/controls",
            "_model_module_version": "1.5.0",
            "_model_name": "SliderStyleModel",
            "_view_count": null,
            "_view_module": "@jupyter-widgets/base",
            "_view_module_version": "1.2.0",
            "_view_name": "StyleView",
            "description_width": "",
            "handle_color": null
          }
        },
        "966c252965d845ef89f483bdf22e89a5": {
          "model_module": "@jupyter-widgets/controls",
          "model_name": "IntSliderModel",
          "model_module_version": "1.5.0",
          "state": {
            "_dom_classes": [],
            "_model_module": "@jupyter-widgets/controls",
            "_model_module_version": "1.5.0",
            "_model_name": "IntSliderModel",
            "_view_count": null,
            "_view_module": "@jupyter-widgets/controls",
            "_view_module_version": "1.5.0",
            "_view_name": "IntSliderView",
            "continuous_update": true,
            "description": "Fuel eff km/l:",
            "description_tooltip": null,
            "disabled": false,
            "layout": "IPY_MODEL_a9a25f9023a241c4838d6299afd2c143",
            "max": 25,
            "min": 5,
            "orientation": "horizontal",
            "readout": true,
            "readout_format": "d",
            "step": 1,
            "style": "IPY_MODEL_f1ba57a992514e3d8aeb9d4f29ee6f85",
            "value": 15
          }
        },
        "a9a25f9023a241c4838d6299afd2c143": {
          "model_module": "@jupyter-widgets/base",
          "model_name": "LayoutModel",
          "model_module_version": "1.2.0",
          "state": {
            "_model_module": "@jupyter-widgets/base",
            "_model_module_version": "1.2.0",
            "_model_name": "LayoutModel",
            "_view_count": null,
            "_view_module": "@jupyter-widgets/base",
            "_view_module_version": "1.2.0",
            "_view_name": "LayoutView",
            "align_content": null,
            "align_items": null,
            "align_self": null,
            "border": null,
            "bottom": null,
            "display": null,
            "flex": null,
            "flex_flow": null,
            "grid_area": null,
            "grid_auto_columns": null,
            "grid_auto_flow": null,
            "grid_auto_rows": null,
            "grid_column": null,
            "grid_gap": null,
            "grid_row": null,
            "grid_template_areas": null,
            "grid_template_columns": null,
            "grid_template_rows": null,
            "height": null,
            "justify_content": null,
            "justify_items": null,
            "left": null,
            "margin": null,
            "max_height": null,
            "max_width": null,
            "min_height": null,
            "min_width": null,
            "object_fit": null,
            "object_position": null,
            "order": null,
            "overflow": null,
            "overflow_x": null,
            "overflow_y": null,
            "padding": null,
            "right": null,
            "top": null,
            "visibility": null,
            "width": null
          }
        },
        "f1ba57a992514e3d8aeb9d4f29ee6f85": {
          "model_module": "@jupyter-widgets/controls",
          "model_name": "SliderStyleModel",
          "model_module_version": "1.5.0",
          "state": {
            "_model_module": "@jupyter-widgets/controls",
            "_model_module_version": "1.5.0",
            "_model_name": "SliderStyleModel",
            "_view_count": null,
            "_view_module": "@jupyter-widgets/base",
            "_view_module_version": "1.2.0",
            "_view_name": "StyleView",
            "description_width": "",
            "handle_color": null
          }
        },
        "e4346eac435a4cb4a4f9fd7d7157d710": {
          "model_module": "@jupyter-widgets/controls",
          "model_name": "IntSliderModel",
          "model_module_version": "1.5.0",
          "state": {
            "_dom_classes": [],
            "_model_module": "@jupyter-widgets/controls",
            "_model_module_version": "1.5.0",
            "_model_name": "IntSliderModel",
            "_view_count": null,
            "_view_module": "@jupyter-widgets/controls",
            "_view_module_version": "1.5.0",
            "_view_name": "IntSliderView",
            "continuous_update": true,
            "description": "Flights/year:",
            "description_tooltip": null,
            "disabled": false,
            "layout": "IPY_MODEL_56462c66ef994481a8b4529e052db7da",
            "max": 20,
            "min": 0,
            "orientation": "horizontal",
            "readout": true,
            "readout_format": "d",
            "step": 1,
            "style": "IPY_MODEL_baa3a62efd5945e8a840390fdb5cd4ca",
            "value": 2
          }
        },
        "56462c66ef994481a8b4529e052db7da": {
          "model_module": "@jupyter-widgets/base",
          "model_name": "LayoutModel",
          "model_module_version": "1.2.0",
          "state": {
            "_model_module": "@jupyter-widgets/base",
            "_model_module_version": "1.2.0",
            "_model_name": "LayoutModel",
            "_view_count": null,
            "_view_module": "@jupyter-widgets/base",
            "_view_module_version": "1.2.0",
            "_view_name": "LayoutView",
            "align_content": null,
            "align_items": null,
            "align_self": null,
            "border": null,
            "bottom": null,
            "display": null,
            "flex": null,
            "flex_flow": null,
            "grid_area": null,
            "grid_auto_columns": null,
            "grid_auto_flow": null,
            "grid_auto_rows": null,
            "grid_column": null,
            "grid_gap": null,
            "grid_row": null,
            "grid_template_areas": null,
            "grid_template_columns": null,
            "grid_template_rows": null,
            "height": null,
            "justify_content": null,
            "justify_items": null,
            "left": null,
            "margin": null,
            "max_height": null,
            "max_width": null,
            "min_height": null,
            "min_width": null,
            "object_fit": null,
            "object_position": null,
            "order": null,
            "overflow": null,
            "overflow_x": null,
            "overflow_y": null,
            "padding": null,
            "right": null,
            "top": null,
            "visibility": null,
            "width": null
          }
        },
        "baa3a62efd5945e8a840390fdb5cd4ca": {
          "model_module": "@jupyter-widgets/controls",
          "model_name": "SliderStyleModel",
          "model_module_version": "1.5.0",
          "state": {
            "_model_module": "@jupyter-widgets/controls",
            "_model_module_version": "1.5.0",
            "_model_name": "SliderStyleModel",
            "_view_count": null,
            "_view_module": "@jupyter-widgets/base",
            "_view_module_version": "1.2.0",
            "_view_name": "StyleView",
            "description_width": "",
            "handle_color": null
          }
        },
        "b15ff1700d99470199c51022524f4270": {
          "model_module": "@jupyter-widgets/controls",
          "model_name": "IntSliderModel",
          "model_module_version": "1.5.0",
          "state": {
            "_dom_classes": [],
            "_model_module": "@jupyter-widgets/controls",
            "_model_module_version": "1.5.0",
            "_model_name": "IntSliderModel",
            "_view_count": null,
            "_view_module": "@jupyter-widgets/controls",
            "_view_module_version": "1.5.0",
            "_view_name": "IntSliderView",
            "continuous_update": true,
            "description": "Electricity kWh/month:",
            "description_tooltip": null,
            "disabled": false,
            "layout": "IPY_MODEL_6b590f4456e94738a608031e7c98a13e",
            "max": 1000,
            "min": 0,
            "orientation": "horizontal",
            "readout": true,
            "readout_format": "d",
            "step": 10,
            "style": "IPY_MODEL_eacebc2ec4b74b1dbe001953836b15cc",
            "value": 350
          }
        },
        "6b590f4456e94738a608031e7c98a13e": {
          "model_module": "@jupyter-widgets/base",
          "model_name": "LayoutModel",
          "model_module_version": "1.2.0",
          "state": {
            "_model_module": "@jupyter-widgets/base",
            "_model_module_version": "1.2.0",
            "_model_name": "LayoutModel",
            "_view_count": null,
            "_view_module": "@jupyter-widgets/base",
            "_view_module_version": "1.2.0",
            "_view_name": "LayoutView",
            "align_content": null,
            "align_items": null,
            "align_self": null,
            "border": null,
            "bottom": null,
            "display": null,
            "flex": null,
            "flex_flow": null,
            "grid_area": null,
            "grid_auto_columns": null,
            "grid_auto_flow": null,
            "grid_auto_rows": null,
            "grid_column": null,
            "grid_gap": null,
            "grid_row": null,
            "grid_template_areas": null,
            "grid_template_columns": null,
            "grid_template_rows": null,
            "height": null,
            "justify_content": null,
            "justify_items": null,
            "left": null,
            "margin": null,
            "max_height": null,
            "max_width": null,
            "min_height": null,
            "min_width": null,
            "object_fit": null,
            "object_position": null,
            "order": null,
            "overflow": null,
            "overflow_x": null,
            "overflow_y": null,
            "padding": null,
            "right": null,
            "top": null,
            "visibility": null,
            "width": null
          }
        },
        "eacebc2ec4b74b1dbe001953836b15cc": {
          "model_module": "@jupyter-widgets/controls",
          "model_name": "SliderStyleModel",
          "model_module_version": "1.5.0",
          "state": {
            "_model_module": "@jupyter-widgets/controls",
            "_model_module_version": "1.5.0",
            "_model_name": "SliderStyleModel",
            "_view_count": null,
            "_view_module": "@jupyter-widgets/base",
            "_view_module_version": "1.2.0",
            "_view_name": "StyleView",
            "description_width": "",
            "handle_color": null
          }
        },
        "473c724484f3414d84e140d9bd9b2047": {
          "model_module": "@jupyter-widgets/controls",
          "model_name": "CheckboxModel",
          "model_module_version": "1.5.0",
          "state": {
            "_dom_classes": [],
            "_model_module": "@jupyter-widgets/controls",
            "_model_module_version": "1.5.0",
            "_model_name": "CheckboxModel",
            "_view_count": null,
            "_view_module": "@jupyter-widgets/controls",
            "_view_module_version": "1.5.0",
            "_view_name": "CheckboxView",
            "description": "Renewable energy?",
            "description_tooltip": null,
            "disabled": false,
            "indent": true,
            "layout": "IPY_MODEL_d6c31748e60349a48d59c91dd8c8684a",
            "style": "IPY_MODEL_06e076b2ea0948f081b67d802a94ffdb",
            "value": false
          }
        },
        "d6c31748e60349a48d59c91dd8c8684a": {
          "model_module": "@jupyter-widgets/base",
          "model_name": "LayoutModel",
          "model_module_version": "1.2.0",
          "state": {
            "_model_module": "@jupyter-widgets/base",
            "_model_module_version": "1.2.0",
            "_model_name": "LayoutModel",
            "_view_count": null,
            "_view_module": "@jupyter-widgets/base",
            "_view_module_version": "1.2.0",
            "_view_name": "LayoutView",
            "align_content": null,
            "align_items": null,
            "align_self": null,
            "border": null,
            "bottom": null,
            "display": null,
            "flex": null,
            "flex_flow": null,
            "grid_area": null,
            "grid_auto_columns": null,
            "grid_auto_flow": null,
            "grid_auto_rows": null,
            "grid_column": null,
            "grid_gap": null,
            "grid_row": null,
            "grid_template_areas": null,
            "grid_template_columns": null,
            "grid_template_rows": null,
            "height": null,
            "justify_content": null,
            "justify_items": null,
            "left": null,
            "margin": null,
            "max_height": null,
            "max_width": null,
            "min_height": null,
            "min_width": null,
            "object_fit": null,
            "object_position": null,
            "order": null,
            "overflow": null,
            "overflow_x": null,
            "overflow_y": null,
            "padding": null,
            "right": null,
            "top": null,
            "visibility": null,
            "width": null
          }
        },
        "06e076b2ea0948f081b67d802a94ffdb": {
          "model_module": "@jupyter-widgets/controls",
          "model_name": "DescriptionStyleModel",
          "model_module_version": "1.5.0",
          "state": {
            "_model_module": "@jupyter-widgets/controls",
            "_model_module_version": "1.5.0",
            "_model_name": "DescriptionStyleModel",
            "_view_count": null,
            "_view_module": "@jupyter-widgets/base",
            "_view_module_version": "1.2.0",
            "_view_name": "StyleView",
            "description_width": ""
          }
        },
        "3276d2e0e0a04a659ceed9568cc5bf44": {
          "model_module": "@jupyter-widgets/controls",
          "model_name": "DropdownModel",
          "model_module_version": "1.5.0",
          "state": {
            "_dom_classes": [],
            "_model_module": "@jupyter-widgets/controls",
            "_model_module_version": "1.5.0",
            "_model_name": "DropdownModel",
            "_options_labels": [
              "low",
              "medium",
              "high"
            ],
            "_view_count": null,
            "_view_module": "@jupyter-widgets/controls",
            "_view_module_version": "1.5.0",
            "_view_name": "DropdownView",
            "description": "Meat intake:",
            "description_tooltip": null,
            "disabled": false,
            "index": 1,
            "layout": "IPY_MODEL_675bd69107c44d5fbca8e32fa19ccf55",
            "style": "IPY_MODEL_9270902d930043ff84b3deee2d64e5fa"
          }
        },
        "675bd69107c44d5fbca8e32fa19ccf55": {
          "model_module": "@jupyter-widgets/base",
          "model_name": "LayoutModel",
          "model_module_version": "1.2.0",
          "state": {
            "_model_module": "@jupyter-widgets/base",
            "_model_module_version": "1.2.0",
            "_model_name": "LayoutModel",
            "_view_count": null,
            "_view_module": "@jupyter-widgets/base",
            "_view_module_version": "1.2.0",
            "_view_name": "LayoutView",
            "align_content": null,
            "align_items": null,
            "align_self": null,
            "border": null,
            "bottom": null,
            "display": null,
            "flex": null,
            "flex_flow": null,
            "grid_area": null,
            "grid_auto_columns": null,
            "grid_auto_flow": null,
            "grid_auto_rows": null,
            "grid_column": null,
            "grid_gap": null,
            "grid_row": null,
            "grid_template_areas": null,
            "grid_template_columns": null,
            "grid_template_rows": null,
            "height": null,
            "justify_content": null,
            "justify_items": null,
            "left": null,
            "margin": null,
            "max_height": null,
            "max_width": null,
            "min_height": null,
            "min_width": null,
            "object_fit": null,
            "object_position": null,
            "order": null,
            "overflow": null,
            "overflow_x": null,
            "overflow_y": null,
            "padding": null,
            "right": null,
            "top": null,
            "visibility": null,
            "width": null
          }
        },
        "9270902d930043ff84b3deee2d64e5fa": {
          "model_module": "@jupyter-widgets/controls",
          "model_name": "DescriptionStyleModel",
          "model_module_version": "1.5.0",
          "state": {
            "_model_module": "@jupyter-widgets/controls",
            "_model_module_version": "1.5.0",
            "_model_name": "DescriptionStyleModel",
            "_view_count": null,
            "_view_module": "@jupyter-widgets/base",
            "_view_module_version": "1.2.0",
            "_view_name": "StyleView",
            "description_width": ""
          }
        },
        "c346438b33ae4b7e8d9b1afafcae55dd": {
          "model_module": "@jupyter-widgets/controls",
          "model_name": "IntSliderModel",
          "model_module_version": "1.5.0",
          "state": {
            "_dom_classes": [],
            "_model_module": "@jupyter-widgets/controls",
            "_model_module_version": "1.5.0",
            "_model_name": "IntSliderModel",
            "_view_count": null,
            "_view_module": "@jupyter-widgets/controls",
            "_view_module_version": "1.5.0",
            "_view_name": "IntSliderView",
            "continuous_update": true,
            "description": "Waste kg/week:",
            "description_tooltip": null,
            "disabled": false,
            "layout": "IPY_MODEL_b16aa61fec39477998b28dfc396b5b16",
            "max": 20,
            "min": 0,
            "orientation": "horizontal",
            "readout": true,
            "readout_format": "d",
            "step": 1,
            "style": "IPY_MODEL_2480dd1a059f4ef39cafd0c04368ffce",
            "value": 5
          }
        },
        "b16aa61fec39477998b28dfc396b5b16": {
          "model_module": "@jupyter-widgets/base",
          "model_name": "LayoutModel",
          "model_module_version": "1.2.0",
          "state": {
            "_model_module": "@jupyter-widgets/base",
            "_model_module_version": "1.2.0",
            "_model_name": "LayoutModel",
            "_view_count": null,
            "_view_module": "@jupyter-widgets/base",
            "_view_module_version": "1.2.0",
            "_view_name": "LayoutView",
            "align_content": null,
            "align_items": null,
            "align_self": null,
            "border": null,
            "bottom": null,
            "display": null,
            "flex": null,
            "flex_flow": null,
            "grid_area": null,
            "grid_auto_columns": null,
            "grid_auto_flow": null,
            "grid_auto_rows": null,
            "grid_column": null,
            "grid_gap": null,
            "grid_row": null,
            "grid_template_areas": null,
            "grid_template_columns": null,
            "grid_template_rows": null,
            "height": null,
            "justify_content": null,
            "justify_items": null,
            "left": null,
            "margin": null,
            "max_height": null,
            "max_width": null,
            "min_height": null,
            "min_width": null,
            "object_fit": null,
            "object_position": null,
            "order": null,
            "overflow": null,
            "overflow_x": null,
            "overflow_y": null,
            "padding": null,
            "right": null,
            "top": null,
            "visibility": null,
            "width": null
          }
        },
        "2480dd1a059f4ef39cafd0c04368ffce": {
          "model_module": "@jupyter-widgets/controls",
          "model_name": "SliderStyleModel",
          "model_module_version": "1.5.0",
          "state": {
            "_model_module": "@jupyter-widgets/controls",
            "_model_module_version": "1.5.0",
            "_model_name": "SliderStyleModel",
            "_view_count": null,
            "_view_module": "@jupyter-widgets/base",
            "_view_module_version": "1.2.0",
            "_view_name": "StyleView",
            "description_width": "",
            "handle_color": null
          }
        },
        "37bf76c9ac074c748f2d882e438b8219": {
          "model_module": "@jupyter-widgets/controls",
          "model_name": "CheckboxModel",
          "model_module_version": "1.5.0",
          "state": {
            "_dom_classes": [],
            "_model_module": "@jupyter-widgets/controls",
            "_model_module_version": "1.5.0",
            "_model_name": "CheckboxModel",
            "_view_count": null,
            "_view_module": "@jupyter-widgets/controls",
            "_view_module_version": "1.5.0",
            "_view_name": "CheckboxView",
            "description": "Recycle waste?",
            "description_tooltip": null,
            "disabled": false,
            "indent": true,
            "layout": "IPY_MODEL_cc0852e898a44afda959fb2ac8af1bd9",
            "style": "IPY_MODEL_5a3ad71afecf45378ce0396de8c3d125",
            "value": true
          }
        },
        "cc0852e898a44afda959fb2ac8af1bd9": {
          "model_module": "@jupyter-widgets/base",
          "model_name": "LayoutModel",
          "model_module_version": "1.2.0",
          "state": {
            "_model_module": "@jupyter-widgets/base",
            "_model_module_version": "1.2.0",
            "_model_name": "LayoutModel",
            "_view_count": null,
            "_view_module": "@jupyter-widgets/base",
            "_view_module_version": "1.2.0",
            "_view_name": "LayoutView",
            "align_content": null,
            "align_items": null,
            "align_self": null,
            "border": null,
            "bottom": null,
            "display": null,
            "flex": null,
            "flex_flow": null,
            "grid_area": null,
            "grid_auto_columns": null,
            "grid_auto_flow": null,
            "grid_auto_rows": null,
            "grid_column": null,
            "grid_gap": null,
            "grid_row": null,
            "grid_template_areas": null,
            "grid_template_columns": null,
            "grid_template_rows": null,
            "height": null,
            "justify_content": null,
            "justify_items": null,
            "left": null,
            "margin": null,
            "max_height": null,
            "max_width": null,
            "min_height": null,
            "min_width": null,
            "object_fit": null,
            "object_position": null,
            "order": null,
            "overflow": null,
            "overflow_x": null,
            "overflow_y": null,
            "padding": null,
            "right": null,
            "top": null,
            "visibility": null,
            "width": null
          }
        },
        "5a3ad71afecf45378ce0396de8c3d125": {
          "model_module": "@jupyter-widgets/controls",
          "model_name": "DescriptionStyleModel",
          "model_module_version": "1.5.0",
          "state": {
            "_model_module": "@jupyter-widgets/controls",
            "_model_module_version": "1.5.0",
            "_model_name": "DescriptionStyleModel",
            "_view_count": null,
            "_view_module": "@jupyter-widgets/base",
            "_view_module_version": "1.2.0",
            "_view_name": "StyleView",
            "description_width": ""
          }
        },
        "aef7bbf2d570405daf419c7e97b3df34": {
          "model_module": "@jupyter-widgets/controls",
          "model_name": "ButtonModel",
          "model_module_version": "1.5.0",
          "state": {
            "_dom_classes": [],
            "_model_module": "@jupyter-widgets/controls",
            "_model_module_version": "1.5.0",
            "_model_name": "ButtonModel",
            "_view_count": null,
            "_view_module": "@jupyter-widgets/controls",
            "_view_module_version": "1.5.0",
            "_view_name": "ButtonView",
            "button_style": "",
            "description": "Calculate Carbon Footprint",
            "disabled": false,
            "icon": "",
            "layout": "IPY_MODEL_cb0d7757e61042629783bdafa50cf3bc",
            "style": "IPY_MODEL_c3c312f91b1a4c39ad284992499e29ae",
            "tooltip": ""
          }
        },
        "cb0d7757e61042629783bdafa50cf3bc": {
          "model_module": "@jupyter-widgets/base",
          "model_name": "LayoutModel",
          "model_module_version": "1.2.0",
          "state": {
            "_model_module": "@jupyter-widgets/base",
            "_model_module_version": "1.2.0",
            "_model_name": "LayoutModel",
            "_view_count": null,
            "_view_module": "@jupyter-widgets/base",
            "_view_module_version": "1.2.0",
            "_view_name": "LayoutView",
            "align_content": null,
            "align_items": null,
            "align_self": null,
            "border": null,
            "bottom": null,
            "display": null,
            "flex": null,
            "flex_flow": null,
            "grid_area": null,
            "grid_auto_columns": null,
            "grid_auto_flow": null,
            "grid_auto_rows": null,
            "grid_column": null,
            "grid_gap": null,
            "grid_row": null,
            "grid_template_areas": null,
            "grid_template_columns": null,
            "grid_template_rows": null,
            "height": null,
            "justify_content": null,
            "justify_items": null,
            "left": null,
            "margin": null,
            "max_height": null,
            "max_width": null,
            "min_height": null,
            "min_width": null,
            "object_fit": null,
            "object_position": null,
            "order": null,
            "overflow": null,
            "overflow_x": null,
            "overflow_y": null,
            "padding": null,
            "right": null,
            "top": null,
            "visibility": null,
            "width": null
          }
        },
        "c3c312f91b1a4c39ad284992499e29ae": {
          "model_module": "@jupyter-widgets/controls",
          "model_name": "ButtonStyleModel",
          "model_module_version": "1.5.0",
          "state": {
            "_model_module": "@jupyter-widgets/controls",
            "_model_module_version": "1.5.0",
            "_model_name": "ButtonStyleModel",
            "_view_count": null,
            "_view_module": "@jupyter-widgets/base",
            "_view_module_version": "1.2.0",
            "_view_name": "StyleView",
            "button_color": null,
            "font_weight": ""
          }
        },
        "bc6fa8ddd7b84f048ca7ed5f87de4b29": {
          "model_module": "@jupyter-widgets/output",
          "model_name": "OutputModel",
          "model_module_version": "1.0.0",
          "state": {
            "_dom_classes": [],
            "_model_module": "@jupyter-widgets/output",
            "_model_module_version": "1.0.0",
            "_model_name": "OutputModel",
            "_view_count": null,
            "_view_module": "@jupyter-widgets/output",
            "_view_module_version": "1.0.0",
            "_view_name": "OutputView",
            "layout": "IPY_MODEL_573af894ed584d748b3b53879bc27def",
            "msg_id": "",
            "outputs": [
              {
                "output_type": "display_data",
                "data": {
                  "text/plain": "<IPython.core.display.Markdown object>",
                  "text/markdown": "### Your Annual Carbon Footprint: **5869.00 kg CO₂**"
                },
                "metadata": {}
              },
              {
                "output_type": "display_data",
                "data": {
                  "text/plain": "<IPython.core.display.Markdown object>",
                  "text/markdown": "#### Breakdown by category:"
                },
                "metadata": {}
              },
              {
                "output_type": "display_data",
                "data": {
                  "text/plain": "<IPython.core.display.Markdown object>",
                  "text/markdown": "- **Transportation**: 2348.00 kg CO₂"
                },
                "metadata": {}
              },
              {
                "output_type": "display_data",
                "data": {
                  "text/plain": "<IPython.core.display.Markdown object>",
                  "text/markdown": "- **Electricity**: 1995.00 kg CO₂"
                },
                "metadata": {}
              },
              {
                "output_type": "display_data",
                "data": {
                  "text/plain": "<IPython.core.display.Markdown object>",
                  "text/markdown": "- **Diet**: 1500.00 kg CO₂"
                },
                "metadata": {}
              },
              {
                "output_type": "display_data",
                "data": {
                  "text/plain": "<IPython.core.display.Markdown object>",
                  "text/markdown": "- **Waste**: 26.00 kg CO₂"
                },
                "metadata": {}
              },
              {
                "output_type": "display_data",
                "data": {
                  "text/plain": "<Figure size 600x400 with 1 Axes>",
                  "image/png": "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\n"
                },
                "metadata": {}
              }
            ]
          }
        },
        "573af894ed584d748b3b53879bc27def": {
          "model_module": "@jupyter-widgets/base",
          "model_name": "LayoutModel",
          "model_module_version": "1.2.0",
          "state": {
            "_model_module": "@jupyter-widgets/base",
            "_model_module_version": "1.2.0",
            "_model_name": "LayoutModel",
            "_view_count": null,
            "_view_module": "@jupyter-widgets/base",
            "_view_module_version": "1.2.0",
            "_view_name": "LayoutView",
            "align_content": null,
            "align_items": null,
            "align_self": null,
            "border": null,
            "bottom": null,
            "display": null,
            "flex": null,
            "flex_flow": null,
            "grid_area": null,
            "grid_auto_columns": null,
            "grid_auto_flow": null,
            "grid_auto_rows": null,
            "grid_column": null,
            "grid_gap": null,
            "grid_row": null,
            "grid_template_areas": null,
            "grid_template_columns": null,
            "grid_template_rows": null,
            "height": null,
            "justify_content": null,
            "justify_items": null,
            "left": null,
            "margin": null,
            "max_height": null,
            "max_width": null,
            "min_height": null,
            "min_width": null,
            "object_fit": null,
            "object_position": null,
            "order": null,
            "overflow": null,
            "overflow_x": null,
            "overflow_y": null,
            "padding": null,
            "right": null,
            "top": null,
            "visibility": null,
            "width": null
          }
        }
      }
    }
  },
  "cells": [
    {
      "cell_type": "markdown",
      "metadata": {
        "id": "view-in-github",
        "colab_type": "text"
      },
      "source": [
        "<a href=\"https://colab.research.google.com/github/pranav-oo7/Carbon-Footprint-Calculator/blob/main/Carbon_Footprint.ipynb\" target=\"_parent\"><img src=\"https://colab.research.google.com/assets/colab-badge.svg\" alt=\"Open In Colab\"/></a>"
      ]
    },
    {
      "cell_type": "code",
      "source": [
        "# Carbon Footprint Calculator\n",
        "def transportation_emission(car_km=0, car_fuel_efficiency=12, flights_per_year=0):\n",
        "    # Car CO2 (kg per year)\n",
        "    # Assumes gasoline emits 2.31 kg CO2 per liter\n",
        "    car_liters = car_km / car_fuel_efficiency\n",
        "    car_emission = car_liters * 2.31\n",
        "\n",
        "    # Flight CO2 (kg per flight)\n",
        "    # Short-haul: 250 kg, Long-haul: 1100 kg (average)\n",
        "    flight_emission = flights_per_year * 250\n",
        "\n",
        "    return car_emission + flight_emission\n",
        "\n",
        "def electricity_emission(kwh_per_month=0, renewable=False):\n",
        "    # Average grid emission factor: 0.475 kg CO2/kWh\n",
        "    if renewable:\n",
        "        factor = 0.05\n",
        "    else:\n",
        "        factor = 0.475\n",
        "    return kwh_per_month * 12 * factor\n",
        "\n",
        "def diet_emission(meat_type='medium'):\n",
        "    # Meat consumption CO2 per year (kg)\n",
        "    if meat_type == 'high':\n",
        "        return 3000\n",
        "    elif meat_type == 'medium':\n",
        "        return 1500\n",
        "    else:\n",
        "        return 800\n",
        "\n",
        "def waste_emission(waste_kg_per_week=0, recycle=True):\n",
        "    # Waste emissions per year\n",
        "    if recycle:\n",
        "        factor = 0.1\n",
        "    else:\n",
        "        factor = 0.25\n",
        "    return waste_kg_per_week * 52 * factor\n",
        "\n",
        "def total_carbon_footprint(car_km=0, car_fuel_efficiency=12, flights_per_year=0,\n",
        "                           kwh_per_month=0, renewable=False, meat_type='medium',\n",
        "                           waste_kg_per_week=0, recycle=True):\n",
        "    total = (transportation_emission(car_km, car_fuel_efficiency, flights_per_year) +\n",
        "             electricity_emission(kwh_per_month, renewable) +\n",
        "             diet_emission(meat_type) +\n",
        "             waste_emission(waste_kg_per_week, recycle))\n",
        "    return total\n",
        "\n",
        "# Example usage\n",
        "footprint = total_carbon_footprint(car_km=12000, car_fuel_efficiency=15, flights_per_year=2,\n",
        "                                   kwh_per_month=350, renewable=False, meat_type='medium',\n",
        "                                   waste_kg_per_week=5, recycle=True)\n",
        "print(f\"Your estimated annual carbon footprint is {footprint:.2f} kg CO₂\")"
      ],
      "metadata": {
        "colab": {
          "base_uri": "https://localhost:8080/",
          "height": 0
        },
        "id": "jr8AvItW579l",
        "outputId": "03a897d7-b6a5-4761-8e74-00c38976df16"
      },
      "execution_count": 6,
      "outputs": [
        {
          "output_type": "stream",
          "name": "stdout",
          "text": [
            "Your estimated annual carbon footprint is 5869.00 kg CO₂\n"
          ]
        }
      ]
    },
    {
      "cell_type": "code",
      "source": [
        "car_km = float(input(\"Enter km driven per year by car: \"))\n",
        "flights_per_year = int(input(\"Enter number of short-haul flights per year: \"))\n",
        "kwh_per_month = float(input(\"Enter monthly electricity usage (kWh): \"))\n",
        "meat_type = input(\"Enter meat consumption (high/medium/low): \").lower()\n",
        "waste_kg_per_week = float(input(\"Enter waste produced per week (kg): \"))\n",
        "\n",
        "footprint = total_carbon_footprint(car_km=car_km, flights_per_year=flights_per_year,\n",
        "                                   kwh_per_month=kwh_per_month, meat_type=meat_type,\n",
        "                                   waste_kg_per_week=waste_kg_per_week)\n",
        "print(f\"Your annual carbon footprint is {footprint:.2f} kg CO₂\")"
      ],
      "metadata": {
        "colab": {
          "base_uri": "https://localhost:8080/",
          "height": 0
        },
        "id": "nAGYol9V5-_J",
        "outputId": "5bfc2b32-274b-4100-b7be-ae39d32c4efa"
      },
      "execution_count": 7,
      "outputs": [
        {
          "output_type": "stream",
          "name": "stdout",
          "text": [
            "Enter km driven per year by car: 100\n",
            "Enter number of short-haul flights per year: 90\n",
            "Enter monthly electricity usage (kWh): 75\n",
            "Enter meat consumption (high/medium/low): 90\n",
            "Enter waste produced per week (kg): 1000000\n",
            "Your annual carbon footprint is 5223746.75 kg CO₂\n"
          ]
        }
      ]
    },
    {
      "cell_type": "code",
      "source": [
        "# Carbon Footprint Calculator - Interactive Version\n",
        "# Run this in Google Colab\n",
        "\n",
        "# Install ipywidgets if not already installed\n",
        "!pip install ipywidgets --quiet\n",
        "\n",
        "import ipywidgets as widgets\n",
        "from IPython.display import display, Markdown\n",
        "import matplotlib.pyplot as plt\n",
        "\n",
        "# -----------------------------\n",
        "# Carbon Footprint Calculation Functions\n",
        "# -----------------------------\n",
        "def transportation_emission(car_km=0, car_fuel_efficiency=12, flights_per_year=0):\n",
        "    # Car CO2 (kg per year)\n",
        "    car_liters = car_km / car_fuel_efficiency\n",
        "    car_emission = car_liters * 2.31\n",
        "    # Flights CO2 (kg per flight, short-haul)\n",
        "    flight_emission = flights_per_year * 250\n",
        "    return car_emission + flight_emission\n",
        "\n",
        "def electricity_emission(kwh_per_month=0, renewable=False):\n",
        "    factor = 0.05 if renewable else 0.475\n",
        "    return kwh_per_month * 12 * factor\n",
        "\n",
        "def diet_emission(meat_type='medium'):\n",
        "    if meat_type == 'high':\n",
        "        return 3000\n",
        "    elif meat_type == 'medium':\n",
        "        return 1500\n",
        "    else:\n",
        "        return 800\n",
        "\n",
        "def waste_emission(waste_kg_per_week=0, recycle=True):\n",
        "    factor = 0.1 if recycle else 0.25\n",
        "    return waste_kg_per_week * 52 * factor\n",
        "\n",
        "def total_carbon_footprint(car_km=0, car_fuel_efficiency=12, flights_per_year=0,\n",
        "                           kwh_per_month=0, renewable=False, meat_type='medium',\n",
        "                           waste_kg_per_week=0, recycle=True):\n",
        "    transport = transportation_emission(car_km, car_fuel_efficiency, flights_per_year)\n",
        "    electricity = electricity_emission(kwh_per_month, renewable)\n",
        "    diet = diet_emission(meat_type)\n",
        "    waste = waste_emission(waste_kg_per_week, recycle)\n",
        "    total = transport + electricity + diet + waste\n",
        "    return total, {'Transportation': transport, 'Electricity': electricity, 'Diet': diet, 'Waste': waste}\n",
        "\n",
        "# -----------------------------\n",
        "# Interactive Widgets\n",
        "# -----------------------------\n",
        "car_km_slider = widgets.IntSlider(value=12000, min=0, max=50000, step=500, description='Car km/year:')\n",
        "fuel_eff_slider = widgets.IntSlider(value=15, min=5, max=25, step=1, description='Fuel eff km/l:')\n",
        "flights_slider = widgets.IntSlider(value=2, min=0, max=20, step=1, description='Flights/year:')\n",
        "kwh_slider = widgets.IntSlider(value=350, min=0, max=1000, step=10, description='Electricity kWh/month:')\n",
        "renewable_checkbox = widgets.Checkbox(value=False, description='Renewable energy?')\n",
        "meat_dropdown = widgets.Dropdown(options=['low', 'medium', 'high'], value='medium', description='Meat intake:')\n",
        "waste_slider = widgets.IntSlider(value=5, min=0, max=20, step=1, description='Waste kg/week:')\n",
        "recycle_checkbox = widgets.Checkbox(value=True, description='Recycle waste?')\n",
        "\n",
        "button = widgets.Button(description=\"Calculate Carbon Footprint\")\n",
        "\n",
        "output = widgets.Output()\n",
        "\n",
        "# -----------------------------\n",
        "# Function to display result\n",
        "# -----------------------------\n",
        "def calculate_footprint(b):\n",
        "    total, details = total_carbon_footprint(\n",
        "        car_km=car_km_slider.value,\n",
        "        car_fuel_efficiency=fuel_eff_slider.value,\n",
        "        flights_per_year=flights_slider.value,\n",
        "        kwh_per_month=kwh_slider.value,\n",
        "        renewable=renewable_checkbox.value,\n",
        "        meat_type=meat_dropdown.value,\n",
        "        waste_kg_per_week=waste_slider.value,\n",
        "        recycle=recycle_checkbox.value\n",
        "    )\n",
        "\n",
        "    with output:\n",
        "        output.clear_output()\n",
        "        display(Markdown(f\"### Your Annual Carbon Footprint: **{total:.2f} kg CO₂**\"))\n",
        "        display(Markdown(\"#### Breakdown by category:\"))\n",
        "        for key, value in details.items():\n",
        "            display(Markdown(f\"- **{key}**: {value:.2f} kg CO₂\"))\n",
        "\n",
        "        # Plot a bar chart\n",
        "        plt.figure(figsize=(6,4))\n",
        "        plt.bar(details.keys(), details.values(), color=['#FF6F61','#6B5B95','#88B04B','#F7CAC9'])\n",
        "        plt.ylabel(\"kg CO₂/year\")\n",
        "        plt.title(\"Carbon Footprint Breakdown\")\n",
        "        plt.show()\n",
        "\n",
        "button.on_click(calculate_footprint)\n",
        "\n",
        "# -----------------------------\n",
        "# Display widgets\n",
        "# -----------------------------\n",
        "display(Markdown(\"## 🌱 Carbon Footprint Calculator\"))\n",
        "display(Markdown(\"Adjust your lifestyle parameters below to estimate your annual CO₂ emissions:\"))\n",
        "display(car_km_slider, fuel_eff_slider, flights_slider, kwh_slider, renewable_checkbox,\n",
        "        meat_dropdown, waste_slider, recycle_checkbox, button, output)"
      ],
      "metadata": {
        "colab": {
          "base_uri": "https://localhost:8080/",
          "height": 793,
          "referenced_widgets": [
            "3ca0ac577cab414d88889dd83f092c45",
            "d81c9dff21fe4778bc7e2827a7e81756",
            "331204c751564035901bc17ebf9c1d15",
            "966c252965d845ef89f483bdf22e89a5",
            "a9a25f9023a241c4838d6299afd2c143",
            "f1ba57a992514e3d8aeb9d4f29ee6f85",
            "e4346eac435a4cb4a4f9fd7d7157d710",
            "56462c66ef994481a8b4529e052db7da",
            "baa3a62efd5945e8a840390fdb5cd4ca",
            "b15ff1700d99470199c51022524f4270",
            "6b590f4456e94738a608031e7c98a13e",
            "eacebc2ec4b74b1dbe001953836b15cc",
            "473c724484f3414d84e140d9bd9b2047",
            "d6c31748e60349a48d59c91dd8c8684a",
            "06e076b2ea0948f081b67d802a94ffdb",
            "3276d2e0e0a04a659ceed9568cc5bf44",
            "675bd69107c44d5fbca8e32fa19ccf55",
            "9270902d930043ff84b3deee2d64e5fa",
            "c346438b33ae4b7e8d9b1afafcae55dd",
            "b16aa61fec39477998b28dfc396b5b16",
            "2480dd1a059f4ef39cafd0c04368ffce",
            "37bf76c9ac074c748f2d882e438b8219",
            "cc0852e898a44afda959fb2ac8af1bd9",
            "5a3ad71afecf45378ce0396de8c3d125",
            "aef7bbf2d570405daf419c7e97b3df34",
            "cb0d7757e61042629783bdafa50cf3bc",
            "c3c312f91b1a4c39ad284992499e29ae",
            "bc6fa8ddd7b84f048ca7ed5f87de4b29",
            "573af894ed584d748b3b53879bc27def"
          ]
        },
        "id": "iQSUDtfh6Fp-",
        "outputId": "41712ced-a499-436b-809d-0e49c5442196"
      },
      "execution_count": 9,
      "outputs": [
        {
          "output_type": "display_data",
          "data": {
            "text/plain": [
              "<IPython.core.display.Markdown object>"
            ],
            "text/markdown": "## 🌱 Carbon Footprint Calculator"
          },
          "metadata": {}
        },
        {
          "output_type": "display_data",
          "data": {
            "text/plain": [
              "<IPython.core.display.Markdown object>"
            ],
            "text/markdown": "Adjust your lifestyle parameters below to estimate your annual CO₂ emissions:"
          },
          "metadata": {}
        },
        {
          "output_type": "display_data",
          "data": {
            "text/plain": [
              "IntSlider(value=12000, description='Car km/year:', max=50000, step=500)"
            ],
            "application/vnd.jupyter.widget-view+json": {
              "version_major": 2,
              "version_minor": 0,
              "model_id": "3ca0ac577cab414d88889dd83f092c45"
            }
          },
          "metadata": {}
        },
        {
          "output_type": "display_data",
          "data": {
            "text/plain": [
              "IntSlider(value=15, description='Fuel eff km/l:', max=25, min=5)"
            ],
            "application/vnd.jupyter.widget-view+json": {
              "version_major": 2,
              "version_minor": 0,
              "model_id": "966c252965d845ef89f483bdf22e89a5"
            }
          },
          "metadata": {}
        },
        {
          "output_type": "display_data",
          "data": {
            "text/plain": [
              "IntSlider(value=2, description='Flights/year:', max=20)"
            ],
            "application/vnd.jupyter.widget-view+json": {
              "version_major": 2,
              "version_minor": 0,
              "model_id": "e4346eac435a4cb4a4f9fd7d7157d710"
            }
          },
          "metadata": {}
        },
        {
          "output_type": "display_data",
          "data": {
            "text/plain": [
              "IntSlider(value=350, description='Electricity kWh/month:', max=1000, step=10)"
            ],
            "application/vnd.jupyter.widget-view+json": {
              "version_major": 2,
              "version_minor": 0,
              "model_id": "b15ff1700d99470199c51022524f4270"
            }
          },
          "metadata": {}
        },
        {
          "output_type": "display_data",
          "data": {
            "text/plain": [
              "Checkbox(value=False, description='Renewable energy?')"
            ],
            "application/vnd.jupyter.widget-view+json": {
              "version_major": 2,
              "version_minor": 0,
              "model_id": "473c724484f3414d84e140d9bd9b2047"
            }
          },
          "metadata": {}
        },
        {
          "output_type": "display_data",
          "data": {
            "text/plain": [
              "Dropdown(description='Meat intake:', index=1, options=('low', 'medium', 'high'), value='medium')"
            ],
            "application/vnd.jupyter.widget-view+json": {
              "version_major": 2,
              "version_minor": 0,
              "model_id": "3276d2e0e0a04a659ceed9568cc5bf44"
            }
          },
          "metadata": {}
        },
        {
          "output_type": "display_data",
          "data": {
            "text/plain": [
              "IntSlider(value=5, description='Waste kg/week:', max=20)"
            ],
            "application/vnd.jupyter.widget-view+json": {
              "version_major": 2,
              "version_minor": 0,
              "model_id": "c346438b33ae4b7e8d9b1afafcae55dd"
            }
          },
          "metadata": {}
        },
        {
          "output_type": "display_data",
          "data": {
            "text/plain": [
              "Checkbox(value=True, description='Recycle waste?')"
            ],
            "application/vnd.jupyter.widget-view+json": {
              "version_major": 2,
              "version_minor": 0,
              "model_id": "37bf76c9ac074c748f2d882e438b8219"
            }
          },
          "metadata": {}
        },
        {
          "output_type": "display_data",
          "data": {
            "text/plain": [
              "Button(description='Calculate Carbon Footprint', style=ButtonStyle())"
            ],
            "application/vnd.jupyter.widget-view+json": {
              "version_major": 2,
              "version_minor": 0,
              "model_id": "aef7bbf2d570405daf419c7e97b3df34"
            }
          },
          "metadata": {}
        },
        {
          "output_type": "display_data",
          "data": {
            "text/plain": [
              "Output()"
            ],
            "application/vnd.jupyter.widget-view+json": {
              "version_major": 2,
              "version_minor": 0,
              "model_id": "bc6fa8ddd7b84f048ca7ed5f87de4b29"
            }
          },
          "metadata": {}
        }
      ]
    }
  ]
}